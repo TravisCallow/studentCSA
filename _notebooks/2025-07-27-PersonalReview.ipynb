{
 "cells": [
  {
   "cell_type": "raw",
   "metadata": {
    "vscode": {
     "languageId": "raw"
    }
   },
   "source": [
    "---\n",
    "layout: post\n",
    "title: Personal Review\n",
    "description: Personal review for me\n",
    "permalink: /personalReviews/review1\n",
    "author: Travis Callow\n",
    "---"
   ]
  },
  {
   "cell_type": "markdown",
   "metadata": {},
   "source": [
    "There haven't been many opportunities to do anything impressive, but things that I have done that have been very impactful for our group was making the upgrades feature on the cookie clicker, making each lesson interactive with a mini quiz input that highlights green if right and red if wrong. Something else was my vscode not working with java, spent a whole class researching online to make it work and it finally works."
   ]
  },
  {
   "cell_type": "code",
   "execution_count": null,
   "metadata": {
    "vscode": {
     "languageId": "java"
    }
   },
   "outputs": [
    {
     "name": "stdout",
     "output_type": "stream",
     "text": [
      "My Java works as shown through this!\n",
      "At first it was having a hard time working but after a lot of trial and error and with the help of ChatGPT I finally got my Java to work in VSCode and to boot up spring.\n"
     ]
    }
   ],
   "source": [
    "System.out.println(\"My Java works as shown through this!\");\n",
    "System.out.println(\"At first it was having a hard time working but after a lot of trial and error and with the help of ChatGPT I finally got my Java to work in VSCode and to boot up spring.\");\n",
    "System.out.println(\"I am very proud of myself for getting it to work and I am excited to learn more about Java.\");"
   ]
  }
 ],
 "metadata": {
  "kernelspec": {
   "display_name": "Java",
   "language": "java",
   "name": "java"
  },
  "language_info": {
   "codemirror_mode": "java",
   "file_extension": ".jshell",
   "mimetype": "text/x-java-source",
   "name": "Java",
   "pygments_lexer": "java",
   "version": "17.0.16+8-Ubuntu-0ubuntu122.04.1"
  }
 },
 "nbformat": 4,
 "nbformat_minor": 2
}
