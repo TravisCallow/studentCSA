{
 "cells": [
  {
   "cell_type": "raw",
   "metadata": {
    "vscode": {
     "languageId": "raw"
    }
   },
   "source": [
    "---\n",
    "layout: post\n",
    "title: Variables and Data Types\n",
    "description: Inclass lesson\n",
    "permalink: /javascript/lessons/second\n",
    "author: Travis Callow\n",
    "---"
   ]
  },
  {
   "cell_type": "markdown",
   "metadata": {},
   "source": [
    "Popcorn hack #1"
   ]
  },
  {
   "cell_type": "code",
   "execution_count": 1,
   "metadata": {
    "vscode": {
     "languageId": "java"
    }
   },
   "outputs": [
    {
     "name": "stdout",
     "output_type": "stream",
     "text": [
      "Burger 17 5.11 true B 2008\n",
      "I like to eat Burger\n",
      "I am 17 years old.\n",
      "I am 5.11 feet tall.\n",
      "It is true that I like pizza.\n",
      "My favorite color starts with the letter B\n",
      "I was born in 2008\n"
     ]
    }
   ],
   "source": [
    "String food = \"Burger\";\n",
    "int age = 17;\n",
    "double feet = 5.11;\n",
    "boolean likePizza = true;\n",
    "char favColor = 'B';  // <-- single quotes for char\n",
    "final int birthYear = 2008;\n",
    "\n",
    "System.out.println(food + \" \" + age + \" \" + feet + \" \" + likePizza + \" \" + favColor + \" \" + birthYear);\n",
    "System.out.println(\"I like to eat \" + food);\n",
    "System.out.println(\"I am \" + age + \" years old.\");\n",
    "System.out.println(\"I am \" + feet + \" feet tall.\");\n",
    "System.out.println(\"It is \" + likePizza + \" that I like pizza.\");\n",
    "System.out.println(\"My favorite color starts with the letter \" + favColor);\n",
    "System.out.println(\"I was born in \" + birthYear);\n"
   ]
  },
  {
   "cell_type": "code",
   "execution_count": null,
   "metadata": {
    "vscode": {
     "languageId": "java"
    }
   },
   "outputs": [],
   "source": []
  },
  {
   "cell_type": "markdown",
   "metadata": {
    "vscode": {
     "languageId": "java"
    }
   },
   "source": [
    "What type should you use for each of these?\n",
    "\n",
    " 1   Number of siblings\n",
    " 2   Your first name\n",
    " 3   Are you hungry?\n",
    " 4   Your favorite letter\n",
    " 5   Your height in inches\n",
    " 6   Number of days in a year (never changes)\n",
    "\n",
    "\n",
    "1: int\n",
    "2: String\n",
    "3: boolean\n",
    "4: char\n",
    "5: double\n",
    "6: final int\n",
    "\n",
    "\n",
    "\n",
    "\n",
    "🏠 Homework Hack: Simple Grade Calculator\n",
    "\n",
    "Make a program that calculates a student’s grade:\n",
    "What you need to store:\n",
    "\n",
    "    Student’s name (make this final)\n",
    "    Three test scores (whole numbers 0-100)\n",
    "    The class name (make this final)\n",
    "\n",
    "What to calculate:\n",
    "\n",
    "    Average of the three test scores\n",
    "    Show what letter grade they earned\n",
    "\n",
    "\n"
   ]
  },
  {
   "cell_type": "code",
   "execution_count": 3,
   "metadata": {
    "vscode": {
     "languageId": "java"
    }
   },
   "outputs": [
    {
     "name": "stdout",
     "output_type": "stream",
     "text": [
      "Score1: 67\n",
      "Score2: 41\n",
      "Score3: 69\n",
      "Total score: 177\n",
      "Average score: 59.00\n",
      "Travis's grade is: F\n"
     ]
    }
   ],
   "source": [
    "final String studentName = \"Travis\";\n",
    "int score1 = 67;\n",
    "int score2 = 41;\n",
    "int score3 = 69;\n",
    "\n",
    "int allScores = score1 + score2 + score3;\n",
    "double average = allScores / 3.0;\n",
    "System.out.println(\"Score1: \" + score1);\n",
    "System.out.println(\"Score2: \" + score2);\n",
    "System.out.println(\"Score3: \" + score3);\n",
    "System.out.println(\"Total score: \" + allScores);\n",
    "System.out.println(\"Average score: \" + String.format(\"%.2f\", average));\n",
    "\n",
    "char grade;\n",
    "\n",
    "if (average >= 90) {\n",
    "    grade = 'A';\n",
    "} else if (average >= 80) {\n",
    "    grade = 'B';\n",
    "} else if (average >= 70) {\n",
    "    grade = 'C';\n",
    "} else if (average >= 60) {\n",
    "    grade = 'D';\n",
    "} else {\n",
    "    grade = 'F';\n",
    "}\n",
    "\n",
    "System.out.println(studentName + \"'s grade is: \" + grade);"
   ]
  }
 ],
 "metadata": {
  "kernelspec": {
   "display_name": "Java",
   "language": "java",
   "name": "java"
  },
  "language_info": {
   "codemirror_mode": "java",
   "file_extension": ".jshell",
   "mimetype": "text/x-java-source",
   "name": "Java",
   "pygments_lexer": "java",
   "version": "17.0.16+8-Ubuntu-0ubuntu122.04.1"
  }
 },
 "nbformat": 4,
 "nbformat_minor": 2
}
