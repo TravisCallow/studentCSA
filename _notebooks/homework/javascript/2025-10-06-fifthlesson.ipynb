{
 "cells": [
  {
   "cell_type": "raw",
   "metadata": {
    "vscode": {
     "languageId": "raw"
    }
   },
   "source": [
    "---\n",
    "layout: post\n",
    "title: Casting and Range of Variables\n",
    "description: Inclass lesson\n",
    "permalink: /javascript/lessons/fifth\n",
    "author: Travis Callow\n",
    "---"
   ]
  },
  {
   "cell_type": "code",
   "execution_count": null,
   "metadata": {
    "vscode": {
     "languageId": "java"
    }
   },
   "outputs": [
    {
     "name": "stdout",
     "output_type": "stream",
     "text": [
      "INT_MIN, INT_MAX: -2147483648 2147483647\n",
      "Overflow examples:\n",
      "MAX+1 = -2147483648\n",
      "MIN-1 = 2147483647\n",
      "(-7)/2  = -3   (-7)%2 = -1\n",
      "(7)/-2  = -3   (7)%-2 = 1\n"
     ]
    }
   ],
   "source": [
    "\n",
    "# Utilities to simulate Java 32-bit signed int in Python\n",
    "INT_MIN = -2**31\n",
    "INT_MAX =  2**31 - 1\n",
    "MASK32  =  0xFFFFFFFF\n",
    "\n",
    "def to_int32(x: int) -> int:\n",
    "    x &= MASK32\n",
    "    # convert to signed\n",
    "    return x if x <= INT_MAX else x - (1 << 32)\n",
    "\n",
    "def add_int32(a: int, b: int) -> int:\n",
    "    return to_int32(a + b)\n",
    "\n",
    "def sub_int32(a: int, b: int) -> int:\n",
    "    return to_int32(a - b)\n",
    "\n",
    "def mul_int32(a: int, b: int) -> int:\n",
    "    return to_int32(a * b)\n",
    "\n",
    "def div_int32(a: int, b: int) -> int:\n",
    "    # Java int division truncates toward zero\n",
    "    if b == 0:\n",
    "        raise ZeroDivisionError(\"division by zero\")\n",
    "    q = int(a / b)  # Python truncates toward zero for int()\n",
    "    return to_int32(q)\n",
    "\n",
    "def mod_int32(a: int, b: int) -> int:\n",
    "    # Java remainder has same sign as dividend (a)\n",
    "    if b == 0:\n",
    "        raise ZeroDivisionError(\"mod by zero\")\n",
    "    q = div_int32(a, b)\n",
    "    r = to_int32(a - q * b)\n",
    "    return r\n",
    "\n",
    "# Demo\n",
    "print(\"INT_MIN, INT_MAX:\", INT_MIN, INT_MAX)\n",
    "print(\"Overflow examples:\")\n",
    "print(\"MAX+1 =\", add_int32(INT_MAX, 1))\n",
    "print(\"MIN-1 =\", sub_int32(INT_MIN, 1))\n",
    "print(\"(-7)/2  =\", div_int32(-7, 2), \"  (-7)%2 =\", mod_int32(-7, 2))\n",
    "print(\"(7)/-2  =\", div_int32(7, -2), \"  (7)%-2 =\", mod_int32(7, -2))\n",
    "\n"
   ]
  },
  {
   "cell_type": "code",
   "execution_count": null,
   "metadata": {
    "vscode": {
     "languageId": "java"
    }
   },
   "outputs": [
    {
     "name": "stdout",
     "output_type": "stream",
     "text": [
      "x=  5.1  truncate=  5  ced_round=  5\n",
      "x=  5.5  truncate=  5  ced_round=  6\n",
      "x=  5.9  truncate=  5  ced_round=  6\n",
      "x= -5.1  truncate= -5  ced_round= -5\n",
      "x= -5.5  truncate= -5  ced_round= -6\n",
      "x= -5.9  truncate= -5  ced_round= -6\n",
      "x= 0.49  truncate=  0  ced_round=  0\n",
      "x=-0.49  truncate=  0  ced_round=  0\n"
     ]
    }
   ],
   "source": [
    "\n",
    "def java_truncate(x: float) -> int:\n",
    "    # Casting double->int truncates toward 0\n",
    "    return int(x)  # Python int() also truncates toward 0\n",
    "\n",
    "def ced_round(x: float) -> int:\n",
    "    if x >= 0:\n",
    "        return int(x + 0.5)\n",
    "    else:\n",
    "        return int(x - 0.5)\n",
    "\n",
    "tests = [5.1, 5.5, 5.9, -5.1, -5.5, -5.9, 0.49, -0.49]\n",
    "for v in tests:\n",
    "    print(f\"x={v:5}  truncate={java_truncate(v):3}  ced_round={ced_round(v):3}\")\n",
    "\n"
   ]
  },
  {
   "cell_type": "code",
   "execution_count": null,
   "metadata": {
    "vscode": {
     "languageId": "java"
    }
   },
   "outputs": [
    {
     "name": "stdout",
     "output_type": "stream",
     "text": [
      "2\n",
      "2\n",
      "2.0\n",
      "2.5\n"
     ]
    }
   ],
   "source": [
    "int a = 10, b = 4;\n",
    "System.out.println(a / b);\n",
    "System.out.println(a % b);\n",
    "System.out.println((double)(a / b));\n",
    "System.out.println((double)a / b);\n"
   ]
  },
  {
   "cell_type": "code",
   "execution_count": null,
   "metadata": {
    "vscode": {
     "languageId": "java"
    }
   },
   "outputs": [
    {
     "name": "stdout",
     "output_type": "stream",
     "text": [
      "-2\n",
      "-3\n",
      "3\n"
     ]
    }
   ],
   "source": [
    "double d = -2.6;\n",
    "System.out.println((int)d);\n",
    "System.out.println((int)(d - 0.5));\n",
    "System.out.println((int)(-d + 0.5));\n"
   ]
  },
  {
   "cell_type": "code",
   "execution_count": null,
   "metadata": {
    "vscode": {
     "languageId": "java"
    }
   },
   "outputs": [
    {
     "name": "stdout",
     "output_type": "stream",
     "text": [
      "2147483647\n",
      "-2147483647\n"
     ]
    }
   ],
   "source": [
    "int x = Integer.MAX_VALUE;\n",
    "int y = x + 2;\n",
    "System.out.println(x);\n",
    "System.out.println(y);\n"
   ]
  },
  {
   "cell_type": "code",
   "execution_count": null,
   "metadata": {
    "vscode": {
     "languageId": "java"
    }
   },
   "outputs": [
    {
     "name": "stdout",
     "output_type": "stream",
     "text": [
      "a / b   = 2\n",
      "a % b   = 2\n",
      "(double)(a / b) = 2.0\n",
      "(double)a / b   = 2.5\n"
     ]
    }
   ],
   "source": [
    "\n",
    "# Q1 reasoning\n",
    "a, b = 10, 4\n",
    "print(\"a / b   =\", int(a / b))   # integer division result\n",
    "print(\"a % b   =\", a - int(a / b) * b)\n",
    "print(\"(double)(a / b) =\", float(int(a / b)))\n",
    "print(\"(double)a / b   =\", a / b)  # Python uses float division here by default"
   ]
  },
  {
   "cell_type": "markdown",
   "metadata": {},
   "source": [
    "FRQ 1"
   ]
  },
  {
   "cell_type": "code",
   "execution_count": 1,
   "metadata": {
    "vscode": {
     "languageId": "java"
    }
   },
   "outputs": [
    {
     "name": "stdout",
     "output_type": "stream",
     "text": [
      "6.5\n"
     ]
    }
   ],
   "source": [
    "public static double avgInt(int a, int b) {\n",
    "    return (a + b) / 2.0;\n",
    "}\n",
    "System.out.println(avgInt(6, 7));"
   ]
  },
  {
   "cell_type": "markdown",
   "metadata": {},
   "source": [
    "FRQ 2"
   ]
  },
  {
   "cell_type": "code",
   "execution_count": 2,
   "metadata": {
    "vscode": {
     "languageId": "java"
    }
   },
   "outputs": [
    {
     "name": "stdout",
     "output_type": "stream",
     "text": [
      "90.0\n"
     ]
    }
   ],
   "source": [
    "public static double percent(int correct, int total) {\n",
    "    return (double)correct / total * 100;\n",
    "}\n",
    "System.out.println(percent(45, 50));"
   ]
  },
  {
   "cell_type": "markdown",
   "metadata": {},
   "source": [
    "FRQ 3"
   ]
  },
  {
   "cell_type": "code",
   "execution_count": 4,
   "metadata": {
    "vscode": {
     "languageId": "java"
    }
   },
   "outputs": [
    {
     "name": "stdout",
     "output_type": "stream",
     "text": [
      "1\n",
      "0\n"
     ]
    }
   ],
   "source": [
    "public static int safeMod(int a, int b) {\n",
    "    if (b == 0) {\n",
    "        return 0;\n",
    "    }\n",
    "    return a % b;\n",
    "}\n",
    "System.out.println(safeMod(7, 3));\n",
    "System.out.println(safeMod(7, 0));"
   ]
  },
  {
   "cell_type": "markdown",
   "metadata": {},
   "source": [
    "MCQ: \n",
    "1: C\n",
    "2: D\n",
    "3: B\n",
    "4: B"
   ]
  }
 ],
 "metadata": {
  "kernelspec": {
   "display_name": "Java",
   "language": "java",
   "name": "java"
  },
  "language_info": {
   "codemirror_mode": "java",
   "file_extension": ".jshell",
   "mimetype": "text/x-java-source",
   "name": "Java",
   "pygments_lexer": "java",
   "version": "17.0.16+8-Ubuntu-0ubuntu122.04.1"
  }
 },
 "nbformat": 4,
 "nbformat_minor": 2
}
