{
 "cells": [
  {
   "cell_type": "raw",
   "metadata": {
    "vscode": {
     "languageId": "raw"
    }
   },
   "source": [
    "---\n",
    "layout: post\n",
    "title: Expressions and Output\n",
    "description: Inclass lesson\n",
    "permalink: /javascript/lessons/third\n",
    "author: Travis Callow\n",
    "---"
   ]
  },
  {
   "cell_type": "markdown",
   "metadata": {},
   "source": [
    "Homework Hack 1\n",
    "\n",
    "    Predict Output: What will this print?\n",
    "\n",
    "    System.out.print(\"AP \");\n",
    "    System.out.println(\"CSA\");\n",
    "    System.out.println(\"Rocks!\");\n",
    "\n",
    "    AP CSA\n",
    "    Rocks!\n",
    "\n",
    "\n",
    "    Fix the Bug: The following is supposed to print C:\\Users\\Student, but it fails. Correct it:\n",
    "\n",
    "    System.out.println(C:\\Users\\Student);\n",
    "\n",
    "\n",
    "    System.out.println(\"C:\\\\Users\\\\Student\");\n",
    "\n",
    "    \n",
    "\n",
    "    Menu Hack: Add a 4th option (Settings) to Menu.java and update optionCount accordingly.\n",
    "    Challenge: Use System.out.printf to print pi with 2 decimals.\n",
    "\n",
    "    System.out.printf(\"Pi = %.2f\\n\", Math.PI);\n",
    "\n"
   ]
  },
  {
   "cell_type": "code",
   "execution_count": 4,
   "metadata": {
    "vscode": {
     "languageId": "java"
    }
   },
   "outputs": [],
   "source": [
    "import java.util.Scanner;\n",
    "\n",
    "public class Menu {\n",
    "    public static void main(String[] args) {\n",
    "        Scanner sc = new Scanner(System.in);\n",
    "\n",
    "        System.out.println(\"==== Main Menu ====\");\n",
    "        System.out.println(\"1. Start Game\");\n",
    "        System.out.println(\"2. Instructions\");\n",
    "        System.out.println(\"3. Settings\");\n",
    "        System.out.println(\"4. Exit\");\n",
    "\n",
    "        System.out.print(\"Choose an option: \");\n",
    "        int choice = sc.nextInt();\n",
    "\n",
    "        System.out.println(\"You selected option: \" + choice);\n",
    "\n",
    "        int optionCount = 4;\n",
    "        System.out.println(\"There are \" + optionCount + \" total options.\");\n",
    "    }\n",
    "}\n"
   ]
  },
  {
   "cell_type": "code",
   "execution_count": 6,
   "metadata": {
    "vscode": {
     "languageId": "java"
    }
   },
   "outputs": [
    {
     "name": "stdout",
     "output_type": "stream",
     "text": [
      "Pi = 3.14\n"
     ]
    },
    {
     "data": {
      "text/plain": [
       "java.io.PrintStream@19630b74"
      ]
     },
     "execution_count": 6,
     "metadata": {},
     "output_type": "execute_result"
    }
   ],
   "source": [
    "System.out.printf(\"Pi = %.2f\\n\", Math.PI);"
   ]
  },
  {
   "cell_type": "markdown",
   "metadata": {},
   "source": [
    "Homework hack 2"
   ]
  },
  {
   "cell_type": "code",
   "execution_count": null,
   "metadata": {
    "vscode": {
     "languageId": "java"
    }
   },
   "outputs": [],
   "source": [
    "import java.util.Scanner;\n",
    "\n",
    "public class Menu {\n",
    "    public static void main(String[] args) {\n",
    "        Scanner sc = new Scanner(System.in);\n",
    "\n",
    "        System.out.println(\"==== Calculator Menu ====\");\n",
    "        System.out.println(\"1. Add\");\n",
    "        System.out.println(\"2. Subtract\");\n",
    "        System.out.println(\"3. Multiply\");\n",
    "        System.out.println(\"4. Divide\");\n",
    "\n",
    "        System.out.print(\"Choose an option: \");\n",
    "        int choice = sc.nextInt();\n",
    "\n",
    "        System.out.println(\"You selected option: \" + choice);\n",
    "\n",
    "        int optionCount = 4;\n",
    "        System.out.println(\"There are \" + optionCount + \" total options.\");\n",
    "    }\n",
    "}"
   ]
  }
 ],
 "metadata": {
  "kernelspec": {
   "display_name": "Java",
   "language": "java",
   "name": "java"
  },
  "language_info": {
   "codemirror_mode": "java",
   "file_extension": ".jshell",
   "mimetype": "text/x-java-source",
   "name": "Java",
   "pygments_lexer": "java",
   "version": "17.0.16+8-Ubuntu-0ubuntu122.04.1"
  }
 },
 "nbformat": 4,
 "nbformat_minor": 2
}
