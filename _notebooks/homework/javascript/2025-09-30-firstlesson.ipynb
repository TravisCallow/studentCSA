{
 "cells": [
  {
   "cell_type": "raw",
   "metadata": {
    "vscode": {
     "languageId": "raw"
    }
   },
   "source": [
    "---\n",
    "layout: post\n",
    "title: Introduction to Algorithms, Programming, and Compilers\n",
    "description: Inclass lesson\n",
    "permalink: /javascript/lessons/first\n",
    "author: Travis Callow\n",
    "---"
   ]
  },
  {
   "cell_type": "markdown",
   "metadata": {},
   "source": [
    "Hack 1:\n",
    "\n",
    "Activity chosen: Making pizza from scratch\n",
    "\n",
    "Algorithm:\n",
    "\n",
    "    Drive to grocery store\n",
    "    Buy the necessary ingredients for a pizza\n",
    "    Go home\n",
    "    Make dough by kneading it\n",
    "    Make tomato sauce\n",
    "    Form dough into pizza shape\n",
    "    Add ingredients onto pizza\n",
    "    Bake pizza and eat\n",
    "\n",
    "\n",
    "\n",
    "\n",
    "\n",
    "\n",
    "Hack 2: Identify the Bug\n",
    "\n",
    "This algorithm has steps in the wrong order. Fix it:\n",
    "\n",
    "Algorithm: Send an Email\n",
    "1. Click \"Send\"\n",
    "2. Open email application\n",
    "3. Type the message\n",
    "4. Log into your account\n",
    "5. Enter recipient's email address\n",
    "6. Write subject line\n",
    "\n",
    "Corrected Algorithm: Send an Email\n",
    "\n",
    "4. Log into your account\n",
    "2. Open email application\n",
    "5. Enter recipient's email address\n",
    "6. Write subject line\n",
    "3. Type the message\n",
    "1. Click \"Send\"\n",
    "\n",
    "\n",
    "Hack 3: Code the Algorithm\n",
    "\n",
    "Convert this algorithm into working Python code:\n",
    "\n",
    "Algorithm: Grade Calculator\n",
    "1. Get three test scores from user\n",
    "2. Add them together\n",
    "3. Divide by 3 to get average\n",
    "4. If average >= 90, grade is A\n",
    "5. If average >= 80, grade is B\n",
    "6. If average >= 70, grade is C\n",
    "7. If average >= 60, grade is D\n",
    "8. Otherwise, grade is F\n",
    "9. Display the grade\n",
    "\n",
    "\n"
   ]
  },
  {
   "cell_type": "code",
   "execution_count": 2,
   "metadata": {},
   "outputs": [
    {
     "name": "stdout",
     "output_type": "stream",
     "text": [
      "Score1: 67\n",
      "Score2: 41\n",
      "Score3: 69\n",
      "Total score: 177\n",
      "Average score: 59.00\n",
      "Grade is F\n"
     ]
    }
   ],
   "source": [
    "# Get scores as integers\n",
    "score1 = int(input(\"Score1: \"))\n",
    "score2 = int(input(\"Score2: \"))\n",
    "score3 = int(input(\"Score3: \"))\n",
    "\n",
    "# Calculate total and average\n",
    "allScores = score1 + score2 + score3\n",
    "average = allScores / 3\n",
    "\n",
    "print(f\"Score1: {score1}\")\n",
    "print(f\"Score2: {score2}\")\n",
    "print(f\"Score3: {score3}\")\n",
    "print(f\"Total score: {allScores}\")\n",
    "print(f\"Average score: {average:.2f}\")\n",
    "\n",
    "# Determine grade\n",
    "if average >= 90:\n",
    "    print(\"Grade is A\")\n",
    "elif average >= 80:\n",
    "    print(\"Grade is B\")\n",
    "elif average >= 70:\n",
    "    print(\"Grade is C\")\n",
    "elif average >= 60:\n",
    "    print(\"Grade is D\")\n",
    "else:\n",
    "    print(\"Grade is F\")\n"
   ]
  }
 ],
 "metadata": {
  "kernelspec": {
   "display_name": "Python 3",
   "language": "python",
   "name": "python3"
  },
  "language_info": {
   "codemirror_mode": {
    "name": "ipython",
    "version": 3
   },
   "file_extension": ".py",
   "mimetype": "text/x-python",
   "name": "python",
   "nbconvert_exporter": "python",
   "pygments_lexer": "ipython3",
   "version": "3.10.12"
  }
 },
 "nbformat": 4,
 "nbformat_minor": 2
}
