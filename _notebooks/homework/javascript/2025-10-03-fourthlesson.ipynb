{
 "cells": [
  {
   "cell_type": "raw",
   "metadata": {
    "vscode": {
     "languageId": "raw"
    }
   },
   "source": [
    "---\n",
    "layout: post\n",
    "title: Assignment Statements and Input\n",
    "description: Inclass lesson\n",
    "permalink: /javascript/lessons/fourth\n",
    "author: Travis Callow\n",
    "---"
   ]
  },
  {
   "cell_type": "markdown",
   "metadata": {},
   "source": [
    "Popcorn Hack 1"
   ]
  },
  {
   "cell_type": "code",
   "execution_count": null,
   "metadata": {
    "vscode": {
     "languageId": "java"
    }
   },
   "outputs": [],
   "source": [
    "int x = 10; // X is 10\n",
    "x = 20; // x is 20\n",
    "int y = x; // y is 20\n"
   ]
  },
  {
   "cell_type": "markdown",
   "metadata": {},
   "source": [
    "Popcorn Hack 1.2\n",
    "Won't work because a string is not an integer"
   ]
  },
  {
   "cell_type": "markdown",
   "metadata": {},
   "source": [
    "Popcorn Hack 2.1\n",
    "It won't work because a string is not a number"
   ]
  },
  {
   "cell_type": "markdown",
   "metadata": {},
   "source": [
    "Popcorn Hack 2.2\n",
    "next() stores \"San\" and nextLine() stores \"San Diego\""
   ]
  },
  {
   "cell_type": "code",
   "execution_count": null,
   "metadata": {
    "vscode": {
     "languageId": "java"
    }
   },
   "outputs": [
    {
     "name": "stdout",
     "output_type": "stream",
     "text": [
      "=== User Information Program ===\n",
      "\n",
      "Enter your full name: Enter your age: Enter your GPA: \n",
      "--- Summary ---\n",
      "Name: Travis Callow\n",
      "Age: 17 (next year: 18)\n",
      "GPA: 4.0\n"
     ]
    }
   ],
   "source": [
    "import java.util.Scanner;\n",
    "\n",
    "public class InputLesson {\n",
    "    public static void main(String[] args) {\n",
    "        System.out.println(\"=== User Information Program ===\\n\");\n",
    "        Scanner sc = new Scanner(System.in);\n",
    "\n",
    "        // String input\n",
    "        System.out.print(\"Enter your full name: \");\n",
    "        String name = sc.nextLine();\n",
    "        \n",
    "        // Integer input\n",
    "        System.out.print(\"Enter your age: \");\n",
    "        int age = sc.nextInt();\n",
    "        \n",
    "        // Double input\n",
    "        System.out.print(\"Enter your GPA: \");\n",
    "        double gpa = sc.nextDouble();\n",
    "        \n",
    "        // Display results\n",
    "        System.out.println(\"\\n--- Summary ---\");\n",
    "        System.out.println(\"Name: \" + name);\n",
    "        System.out.println(\"Age: \" + age + \" (next year: \" + (age + 1) + \")\");\n",
    "        System.out.println(\"GPA: \" + gpa);\n",
    "        \n",
    "        sc.close();\n",
    "    }\n",
    "}\n",
    "\n",
    "\n"
   ]
  },
  {
   "cell_type": "markdown",
   "metadata": {},
   "source": [
    "Quick Knowledge Check\n",
    "Q1: B\n",
    "Q2: D"
   ]
  },
  {
   "cell_type": "markdown",
   "metadata": {},
   "source": [
    "Hack 2: Assignment vs Comparison Explanation\n",
    "\n",
    "Task: Write an explanation distinguishing between:\n",
    "\n",
    "    Assignment operator (=)\n",
    "    Comparison operator (==)\n",
    "\n",
    "Include code examples showing proper usage of each. Explain a common bug that occurs when these are confused.\n",
    "\n",
    "The goal of this lesson is to teach you two key concepts:\n",
    "\n",
    "    How to assign values to variables and understand how expressions are evaluated\n",
    "    How to take in user input and use them in your program to create interactive applications\n",
    "\n",
    "These foundational skills will enable you to create dynamic programs that respond to user data rather than relying on hardcoded values."
   ]
  },
  {
   "cell_type": "code",
   "execution_count": 7,
   "metadata": {
    "vscode": {
     "languageId": "java"
    }
   },
   "outputs": [
    {
     "name": "stdout",
     "output_type": "stream",
     "text": [
      "The sum of 5 and 10 is 15: true\n"
     ]
    }
   ],
   "source": [
    "int numA = 5;\n",
    "int numB = 10;\n",
    "int sum = numA + numB; // sum is 15\n",
    "\n",
    "boolean is15 = false;\n",
    "\n",
    "if (sum == 15) {\n",
    "    is15 = true;\n",
    "} else {\n",
    "    is15 = false;\n",
    "}\n",
    "\n",
    "System.out.println(\"The sum of \" + String.valueOf(numA) + \" and \" + String.valueOf(numB) + \" is 15: \" + is15);"
   ]
  }
 ],
 "metadata": {
  "kernelspec": {
   "display_name": "Java",
   "language": "java",
   "name": "java"
  },
  "language_info": {
   "codemirror_mode": "java",
   "file_extension": ".jshell",
   "mimetype": "text/x-java-source",
   "name": "Java",
   "pygments_lexer": "java",
   "version": "17.0.16+8-Ubuntu-0ubuntu122.04.1"
  }
 },
 "nbformat": 4,
 "nbformat_minor": 2
}
