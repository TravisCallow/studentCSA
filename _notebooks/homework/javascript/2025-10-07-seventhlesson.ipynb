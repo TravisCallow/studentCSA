{
 "cells": [
  {
   "cell_type": "raw",
   "metadata": {
    "vscode": {
     "languageId": "raw"
    }
   },
   "source": [
    "---\n",
    "layout: post\n",
    "title: Application Program Interface (API) and Libraries\n",
    "description: Inclass lesson\n",
    "permalink: /javascript/lessons/seventh\n",
    "author: Travis Callow\n",
    "---"
   ]
  },
  {
   "cell_type": "markdown",
   "metadata": {},
   "source": [
    "🍿 Popcorn Hack #1: Using Documentation (5 minutes)\n",
    "\n",
    "Task: Use the Math class and ArrayList class based on their documentation.\n",
    "\n",
    "Complete the following:\n",
    "\n",
    "    Use Math.pow() to calculate 3^4\n",
    "    Use Math.sqrt() to find square root of 64\n",
    "    Create an ArrayList of Strings\n",
    "    Add 3 colors to the ArrayList\n",
    "    Print the ArrayList size\n"
   ]
  },
  {
   "cell_type": "code",
   "execution_count": null,
   "metadata": {
    "vscode": {
     "languageId": "java"
    }
   },
   "outputs": [
    {
     "name": "stdout",
     "output_type": "stream",
     "text": [
      "81.0\n",
      "8.0\n",
      "3\n"
     ]
    }
   ],
   "source": [
    "import java.util.ArrayList;\n",
    "\n",
    "public class PopcornHack1 {\n",
    "    public static void main(String[] args) {\n",
    "        // TODO: Use Math.pow() to calculate 3^4\n",
    "        System.out.println(Math.pow(3,4));\n",
    "        // TODO: Use Math.sqrt() to find square root of 64\n",
    "        System.out.println(Math.sqrt(64));\n",
    "        // TODO: Create ArrayList of Strings\n",
    "        ArrayList<String> colors = new ArrayList<>();\n",
    "        // TODO: Add 3 colors (\"red\", \"blue\", \"green\")\n",
    "        colors.add(\"red\");\n",
    "        colors.add(\"blue\");\n",
    "        colors.add(\"green\");\n",
    "        // TODO: Print the size\n",
    "        System.out.println(colors.size());\n",
    "        \n",
    "    }\n",
    "}"
   ]
  },
  {
   "cell_type": "markdown",
   "metadata": {},
   "source": [
    "🍿 Popcorn Hack #2: Attributes and Behaviors (5 minutes)\n",
    "\n",
    "Task: Create a Book class with attributes and behaviors.\n",
    "\n",
    "Requirements:\n",
    "\n",
    "Attributes (3):\n",
    "\n",
    "    title (String)\n",
    "    author (String)\n",
    "    pages (int)\n",
    "\n",
    "Behaviors (3 methods):\n",
    "\n",
    "    Constructor to set all attributes\n",
    "    displayInfo() - print all book info\n",
    "    isLong() - return true if pages > 300\n",
    "\n",
    "Test: Create a Book object and call all methods."
   ]
  },
  {
   "cell_type": "code",
   "execution_count": null,
   "metadata": {
    "vscode": {
     "languageId": "java"
    }
   },
   "outputs": [],
   "source": [
    "public class Book {\n",
    "    // TODO: Add 3 attributes (title, author, pages)\n",
    "    private String title;\n",
    "    private String author;\n",
    "    private int pages;\n",
    "    // TODO: Add constructor\n",
    "    public Book(String title, String author, int pages) {\n",
    "        this.title = title;\n",
    "        this.author = author;\n",
    "        this.pages = pages;\n",
    "    }\n",
    "    // TODO: Add displayInfo() method\n",
    "    public void displayInfo() {\n",
    "        System.out.println(\"Title: \" + title);\n",
    "        System.out.println(\"Author: \" + author);\n",
    "        System.out.println(\"Pages: \" + pages);\n",
    "    }\n",
    "    // TODO: Add isLong() method (returns true if pages > 300)\n",
    "    \n",
    "    public boolean isLong() {\n",
    "        return pages > 300;\n",
    "    }\n",
    "}"
   ]
  },
  {
   "cell_type": "markdown",
   "metadata": {},
   "source": [
    "HOMEWORK HACK"
   ]
  },
  {
   "cell_type": "code",
   "execution_count": 6,
   "metadata": {
    "vscode": {
     "languageId": "java"
    }
   },
   "outputs": [
    {
     "name": "stdout",
     "output_type": "stream",
     "text": [
      "Brand: Apple\n",
      "Model: IPhone 14\n",
      "Battery Level: 51%\n",
      "Contacts: [Mom, Dad, Huzz, Huzz2, Huzz3]\n",
      "Brand: Samsung\n",
      "Model: Galaxy S21\n",
      "Battery Level: 70%\n",
      "Contacts: [Alice, Bob, Travis, Alex, Trevor]\n"
     ]
    }
   ],
   "source": [
    "// Homework Hack: Complete the Phone class\n",
    "\n",
    "import java.util.ArrayList;\n",
    "import java.util.Arrays;\n",
    "\n",
    "public class Phone {\n",
    "    // TODO: Add 4 attributes\n",
    "    private String brand;\n",
    "    private String model;\n",
    "    private int batteryLevel;\n",
    "    private ArrayList contacts;\n",
    "    // TODO: Add constructor\n",
    "    public Phone(String brand, String model, int batteryLevel, ArrayList contacts){\n",
    "        this.brand = brand;\n",
    "        this.model = model;\n",
    "        this.batteryLevel = batteryLevel;\n",
    "        this.contacts = contacts;\n",
    "    }\n",
    "    // TODO: Add displayInfo() method\n",
    "    public void displayInfo(){\n",
    "        System.out.println(\"Brand: \" + brand);\n",
    "        System.out.println(\"Model: \" + model);\n",
    "        System.out.println(\"Battery Level: \" + batteryLevel + \"%\");\n",
    "        System.out.println(\"Contacts: \" + contacts);\n",
    "        \n",
    "    }\n",
    "    // TODO: Add addContact(String name) method\n",
    "    public void addContact(String name){\n",
    "        contacts.add(name);\n",
    "    }\n",
    "    // TODO: Add showContacts() method\n",
    "    public void showContacts(){\n",
    "        System.out.println(contacts);\n",
    "    }\n",
    "    // TODO: Add usePhone(int minutes) method\n",
    "    public void usePhone(int minutes){\n",
    "        batteryLevel -= minutes/4;\n",
    "    }\n",
    "}\n",
    "\n",
    "// Test your Phone class\n",
    "class PhoneTest {\n",
    "    public static void main(String[] args) {\n",
    "        // TODO: Create 2 Phone objects\n",
    "        Phone phone1 = new Phone(\"Apple\", \"IPhone 14\", 67, new ArrayList<>(Arrays.asList(\"Mom\", \"Dad\")));\n",
    "        Phone phone2 = new Phone(\"Samsung\", \"Galaxy S21\", 80, new ArrayList<>(Arrays.asList(\"Alice\", \"Bob\")));\n",
    "        // TODO: Add 3 contacts to each\n",
    "        phone1.addContact(\"Huzz\");\n",
    "        phone1.addContact(\"Huzz2\");\n",
    "        phone1.addContact(\"Huzz3\");\n",
    "\n",
    "        phone2.addContact(\"Travis\");\n",
    "        phone2.addContact(\"Alex\");\n",
    "        phone2.addContact(\"Trevor\");\n",
    "        // TODO: Use phones for some minutes\n",
    "        phone1.usePhone(67);\n",
    "        phone2.usePhone(41);\n",
    "        // TODO: Display all information\n",
    "        phone1.displayInfo();\n",
    "        phone2.displayInfo();\n",
    "    }\n",
    "}\n",
    "\n",
    "PhoneTest.main(null);\n",
    "\n"
   ]
  }
 ],
 "metadata": {
  "kernelspec": {
   "display_name": "Java",
   "language": "java",
   "name": "java"
  },
  "language_info": {
   "codemirror_mode": "java",
   "file_extension": ".jshell",
   "mimetype": "text/x-java-source",
   "name": "Java",
   "pygments_lexer": "java",
   "version": "17.0.16+8-Ubuntu-0ubuntu122.04.1"
  }
 },
 "nbformat": 4,
 "nbformat_minor": 2
}
