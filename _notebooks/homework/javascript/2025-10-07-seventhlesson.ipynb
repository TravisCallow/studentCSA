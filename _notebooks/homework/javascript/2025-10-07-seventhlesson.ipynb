{
 "cells": [
  {
   "cell_type": "raw",
   "metadata": {
    "vscode": {
     "languageId": "raw"
    }
   },
   "source": [
    "---\n",
    "layout: post\n",
    "title: Application Program Interface (API) and Libraries\n",
    "description: Inclass lesson\n",
    "permalink: /javascript/lessons/seventh\n",
    "author: Travis Callow\n",
    "---"
   ]
  },
  {
   "cell_type": "markdown",
   "metadata": {},
   "source": [
    "🍿 Popcorn Hack #1: Using Documentation (5 minutes)\n",
    "\n",
    "Task: Use the Math class and ArrayList class based on their documentation.\n",
    "\n",
    "Complete the following:\n",
    "\n",
    "    Use Math.pow() to calculate 3^4\n",
    "    Use Math.sqrt() to find square root of 64\n",
    "    Create an ArrayList of Strings\n",
    "    Add 3 colors to the ArrayList\n",
    "    Print the ArrayList size\n"
   ]
  },
  {
   "cell_type": "code",
   "execution_count": null,
   "metadata": {
    "vscode": {
     "languageId": "java"
    }
   },
   "outputs": [
    {
     "name": "stdout",
     "output_type": "stream",
     "text": [
      "81.0\n",
      "8.0\n",
      "3\n"
     ]
    }
   ],
   "source": [
    "import java.util.ArrayList;\n",
    "\n",
    "public class PopcornHack1 {\n",
    "    public static void main(String[] args) {\n",
    "        // TODO: Use Math.pow() to calculate 3^4\n",
    "        System.out.println(Math.pow(3,4));\n",
    "        // TODO: Use Math.sqrt() to find square root of 64\n",
    "        System.out.println(Math.sqrt(64));\n",
    "        // TODO: Create ArrayList of Strings\n",
    "        ArrayList<String> colors = new ArrayList<>();\n",
    "        // TODO: Add 3 colors (\"red\", \"blue\", \"green\")\n",
    "        colors.add(\"red\");\n",
    "        colors.add(\"blue\");\n",
    "        colors.add(\"green\");\n",
    "        // TODO: Print the size\n",
    "        System.out.println(colors.size());\n",
    "        \n",
    "    }\n",
    "}"
   ]
  },
  {
   "cell_type": "markdown",
   "metadata": {},
   "source": [
    "🍿 Popcorn Hack #2: Attributes and Behaviors (5 minutes)\n",
    "\n",
    "Task: Create a Book class with attributes and behaviors.\n",
    "\n",
    "Requirements:\n",
    "\n",
    "Attributes (3):\n",
    "\n",
    "    title (String)\n",
    "    author (String)\n",
    "    pages (int)\n",
    "\n",
    "Behaviors (3 methods):\n",
    "\n",
    "    Constructor to set all attributes\n",
    "    displayInfo() - print all book info\n",
    "    isLong() - return true if pages > 300\n",
    "\n",
    "Test: Create a Book object and call all methods."
   ]
  },
  {
   "cell_type": "code",
   "execution_count": null,
   "metadata": {
    "vscode": {
     "languageId": "java"
    }
   },
   "outputs": [],
   "source": [
    "public class Book {\n",
    "    // TODO: Add 3 attributes (title, author, pages)\n",
    "    private String title;\n",
    "    private String author;\n",
    "    private int pages;\n",
    "    // TODO: Add constructor\n",
    "    public Book(String title, String author, int pages) {\n",
    "        this.title = title;\n",
    "        this.author = author;\n",
    "        this.pages = pages;\n",
    "    }\n",
    "    // TODO: Add displayInfo() method\n",
    "    public void displayInfo() {\n",
    "        System.out.println(\"Title: \" + title);\n",
    "        System.out.println(\"Author: \" + author);\n",
    "        System.out.println(\"Pages: \" + pages);\n",
    "    }\n",
    "    // TODO: Add isLong() method (returns true if pages > 300)\n",
    "    \n",
    "    public boolean isLong() {\n",
    "        return pages > 300;\n",
    "    }\n",
    "}"
   ]
  }
 ],
 "metadata": {
  "kernelspec": {
   "display_name": "Java",
   "language": "java",
   "name": "java"
  },
  "language_info": {
   "codemirror_mode": "java",
   "file_extension": ".jshell",
   "mimetype": "text/x-java-source",
   "name": "Java",
   "pygments_lexer": "java",
   "version": "17.0.16+8-Ubuntu-0ubuntu122.04.1"
  }
 },
 "nbformat": 4,
 "nbformat_minor": 2
}
