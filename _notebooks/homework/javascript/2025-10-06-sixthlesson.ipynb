{
 "cells": [
  {
   "cell_type": "raw",
   "metadata": {
    "vscode": {
     "languageId": "raw"
    }
   },
   "source": [
    "---\n",
    "layout: post\n",
    "title: Assignment Statements and Input\n",
    "description: Inclass lesson\n",
    "permalink: /javascript/lessons/sixth\n",
    "author: Travis Callow\n",
    "---"
   ]
  },
  {
   "cell_type": "markdown",
   "metadata": {},
   "source": [
    "Popcorn Hack 1"
   ]
  },
  {
   "cell_type": "code",
   "execution_count": null,
   "metadata": {
    "vscode": {
     "languageId": "java"
    }
   },
   "outputs": [],
   "source": [
    "int playerScore = 1000;\n",
    "int playerHealth = 100;\n",
    "int enemiesDefeated = 0;\n",
    "\n",
    "// Player defeats an enemy worth 250 points\n",
    "playerScore += 250;\n",
    "\n",
    "// Player takes 15 damage\n",
    "playerHealth -= 15;\n",
    "\n",
    "// Enemy count goes up\n",
    "enemiesDefeated++;\n",
    "\n",
    "// Boss battle: double the current score!\n",
    "playerScore *= 2;\n",
    "\n",
    "// Healing potion restores health to 80% of current\n",
    "playerHealth *= 4;\n",
    "playerHealth /= 5;  // 4/5 = 0.8, but we need integer math\n"
   ]
  },
  {
   "cell_type": "markdown",
   "metadata": {},
   "source": [
    "Popcorn Hack #2:\n",
    "\n",
    "Write a short program where a variable called score starts at 100. Use at least three different compound assignment operators to update score, and print the result after each step.\n",
    "\n",
    "Example goals to try:\n",
    "\n",
    "    Deduct points for a wrong answer (-=)\n",
    "    Double the score with a power-up (*=)\n",
    "    Find remainder after dividing by 7 (%=)\n"
   ]
  },
  {
   "cell_type": "code",
   "execution_count": 1,
   "metadata": {
    "vscode": {
     "languageId": "java"
    }
   },
   "outputs": [
    {
     "name": "stdout",
     "output_type": "stream",
     "text": [
      "5\n"
     ]
    }
   ],
   "source": [
    "int score = 100;\n",
    "score -= 10;\n",
    "score *= 2;\n",
    "score %= 7;\n",
    "System.out.println(score);"
   ]
  },
  {
   "cell_type": "markdown",
   "metadata": {},
   "source": [
    "Option B: Bank Account Manager\n",
    "\n",
    "Simulate managing a personal bank account over time:\n",
    "Suggested variables to track:\n",
    "\n",
    "    balance - Current account balance\n",
    "    transactions - Number of transactions made\n",
    "    monthlyFee - Account maintenance costs\n",
    "    interestRate - Interest earned/applied\n",
    "\n",
    "Example operations you might use:\n",
    "\n",
    "    Add monthly salary (balance += 3000)\n",
    "    Subtract rent payment (balance -= 1200)\n",
    "    Apply interest rate (balance *= 1.02)\n",
    "    Average monthly spending (spending /= 12)\n",
    "    Check account tier eligibility (tier %= 5)\n"
   ]
  },
  {
   "cell_type": "code",
   "execution_count": 6,
   "metadata": {
    "vscode": {
     "languageId": "java"
    }
   },
   "outputs": [
    {
     "name": "stdout",
     "output_type": "stream",
     "text": [
      "Final balance: 79\n",
      "Total transactions: 3\n",
      "Average per transaction: 26\n"
     ]
    }
   ],
   "source": [
    "int balance = 0;\n",
    "int transactions = 0;\n",
    "final int fee = 41;\n",
    "final double interestRate = 0.05;\n",
    "\n",
    "balance += 167; // deposit\n",
    "transactions++;\n",
    "balance -= 50; // withdrawal\n",
    "transactions++;\n",
    "balance -= fee; // monthly fee\n",
    "transactions++;\n",
    "balance += balance * interestRate; // apply interest\n",
    "System.out.println(\"Final balance: \" + balance);\n",
    "System.out.println(\"Total transactions: \" + transactions);\n",
    "System.out.println(\"Average per transaction: \" + (balance / transactions));\n"
   ]
  }
 ],
 "metadata": {
  "kernelspec": {
   "display_name": "Java",
   "language": "java",
   "name": "java"
  },
  "language_info": {
   "codemirror_mode": "java",
   "file_extension": ".jshell",
   "mimetype": "text/x-java-source",
   "name": "Java",
   "pygments_lexer": "java",
   "version": "17.0.16+8-Ubuntu-0ubuntu122.04.1"
  }
 },
 "nbformat": 4,
 "nbformat_minor": 2
}
